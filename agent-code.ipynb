{
 "cells": [
  {
   "cell_type": "markdown",
   "metadata": {
    "id": "QTNU1mwGB1ZD"
   },
   "source": [
    "**Dependencies and setup**\n",
    "\n",
    "This can take a minute or so..."
   ]
  },
  {
   "cell_type": "code",
   "execution_count": 1,
   "metadata": {
    "id": "rA38jtUgtZsG"
   },
   "outputs": [],
   "source": [
    "%%capture\n",
    "!pip install setuptools==65.5.0 \"wheel<0.40.0\"\n",
    "!apt update\n",
    "!apt-get install python3-opengl\n",
    "!apt install xvfb -y\n",
    "!pip install 'swig'\n",
    "!pip install 'pyglet==1.5.27'\n",
    "!pip install 'gym[box2d]==0.20.0'\n",
    "!pip install 'pyvirtualdisplay==3.0'"
   ]
  },
  {
   "cell_type": "code",
   "execution_count": 2,
   "metadata": {
    "id": "tnGVkRk-G0Ox"
   },
   "outputs": [],
   "source": [
    "import gym\n",
    "import random\n",
    "import numpy as np\n",
    "import torch\n",
    "import torch.nn as nn\n",
    "import torch.nn.functional as F\n",
    "import torch.optim as optim\n",
    "import matplotlib.pyplot as plt\n",
    "import sys\n",
    "from pyvirtualdisplay import Display\n",
    "from IPython import display as disp\n",
    "%matplotlib inline"
   ]
  },
  {
   "cell_type": "markdown",
   "metadata": {
    "id": "UJHtclV_30Re"
   },
   "source": [
    "**Reinforcement learning agent**\n",
    "\n",
    "Replace this with your own agent - I recommend starting with TD3 (lecture 8)"
   ]
  },
  {
   "cell_type": "code",
   "execution_count": 3,
   "metadata": {},
   "outputs": [],
   "source": [
    "display = Display(visible=0,size=(600,600))\n",
    "display.start()\n",
    "device = torch.device('cuda') if torch.cuda.is_available() else torch.device('cpu')\n",
    "\n",
    "plot_interval = 10 # update the plot every N episodes\n",
    "video_every = 25 # videos can take a very long time to render so only do it every N episodes"
   ]
  },
  {
   "cell_type": "code",
   "execution_count": 4,
   "metadata": {
    "id": "4jXNHP8_U-rn"
   },
   "outputs": [],
   "source": [
    "capacity = 2e6\n",
    "gamma = 0.99\n",
    "batch_size = 64\n",
    "tau = 0.005\n",
    "lr = 5e-4\n",
    "policy_freq = 2\n",
    "policy_noise = 0.2\n",
    "noise_clip = 0.5"
   ]
  },
  {
   "cell_type": "code",
   "execution_count": 5,
   "metadata": {},
   "outputs": [],
   "source": [
    "class Actor(nn.Module):\n",
    "    def __init__(self, state_dim, action_dim, max_action, net_width=256):\n",
    "        super(Actor, self).__init__()\n",
    "        self.max_action = max_action\n",
    "        \n",
    "        self.l1 = nn.Linear(state_dim, net_width)\n",
    "        self.l2 = nn.Linear(net_width, net_width)\n",
    "        self.l3 = nn.Linear(net_width, action_dim)\n",
    "\n",
    "    def forward(self, state):\n",
    "        a = F.relu(self.l1(state))\n",
    "        a = F.relu(self.l2(a))\n",
    "        return torch.tanh(self.l3(a)) * self.max_action"
   ]
  },
  {
   "cell_type": "code",
   "execution_count": 6,
   "metadata": {
    "id": "4e-2wdcoH0fn"
   },
   "outputs": [],
   "source": [
    "class Critic(nn.Module):\n",
    "    def __init__(self, state_dim, action_dim, layer_width=256):\n",
    "        super(Critic, self).__init__()\n",
    "        self.l1_Q1 = nn.Linear(state_dim + action_dim, layer_width)\n",
    "        self.l2_Q1 = nn.Linear(layer_width, layer_width)\n",
    "        self.l3_Q1 = nn.Linear(layer_width, 1)\n",
    "        self.l1_Q2 = nn.Linear(state_dim + action_dim, layer_width)\n",
    "        self.l2_Q2 = nn.Linear(layer_width, layer_width)\n",
    "        self.l3_Q2 = nn.Linear(layer_width, 1)\n",
    "\n",
    "    def Q1(self, state, action):\n",
    "        x = torch.cat([state, action], 1)\n",
    "        q1 = F.relu(self.l1_Q1(x))\n",
    "        q1 = F.relu(self.l2_Q1(q1))\n",
    "        q1 = self.l3_Q1(q1)\n",
    "        return q1\n",
    "\n",
    "    def forward(self, state, action):\n",
    "        x = torch.cat([state, action], 1)\n",
    "        q1 = F.relu(self.l1_Q1(x))\n",
    "        q1 = F.relu(self.l2_Q1(q1))\n",
    "        q1 = self.l3_Q1(q1)\n",
    "\n",
    "        q2 = F.relu(self.l1_Q2(x))\n",
    "        q2 = F.relu(self.l2_Q2(q2))\n",
    "        q2 = self.l3_Q2(q2)\n",
    "        return q1, q2"
   ]
  },
  {
   "cell_type": "code",
   "execution_count": 7,
   "metadata": {
    "id": "sIUJWqQiH68H"
   },
   "outputs": [],
   "source": [
    "#Based on: https://github.com/openai/baselines/blob/master/baselines/deepq/replay_buffer.py\n",
    "class ReplayBuffer(object):\n",
    "    def __init__(self, max_size=2e5):\n",
    "        self._storage = []\n",
    "        self._maxsize = max_size\n",
    "        self._next_idx = 0\n",
    "\n",
    "    def add(self, state, action, reward, next_state, done):\n",
    "        data = (state, action, reward, next_state, done)\n",
    "\n",
    "        if self._next_idx >= len(self._storage):\n",
    "            self._storage.append(data)\n",
    "        else:\n",
    "            self._storage[self._next_idx] = data\n",
    "        self._next_idx = (self._next_idx + 1) % self._maxsize\n",
    "\n",
    "    def sample(self, batch_size):\n",
    "        idxes = [random.randint(0, len(self._storage) - 1) for _ in range(batch_size)]\n",
    "        states, actions, rewards, next_states, dones = [], [], [], [], []\n",
    "        for i in idxes:\n",
    "            data = self._storage[i]\n",
    "            state, action, reward, next_state, done = data\n",
    "            states.append(np.array(state, copy=False))\n",
    "            actions.append(np.array(action, copy=False))\n",
    "            rewards.append(np.array(reward, copy=False))\n",
    "            next_states.append(np.array(next_state, copy=False))\n",
    "            dones.append(np.array(done, copy=False))\n",
    "        return np.array(states), np.array(actions), np.array(rewards).reshape(-1, 1), np.array(next_states), np.array(dones).reshape(-1, 1)"
   ]
  },
  {
   "cell_type": "code",
   "execution_count": 8,
   "metadata": {
    "id": "oMSHB5OaJJeO"
   },
   "outputs": [],
   "source": [
    "%%capture\n",
    "env = gym.make(\"BipedalWalker-v3\")\n",
    "# env = gym.make(\"BipedalWalkerHardcore-v3\") # only attempt this when your agent has solved BipedalWalker-v3\n",
    "env = gym.wrappers.Monitor(env, \"./video\", video_callable=lambda ep_id: ep_id%video_every == 0, force=True)\n",
    "\n",
    "obs_dim = env.observation_space.shape[0]\n",
    "act_dim = env.action_space.shape[0]\n",
    "max_action = float(env.action_space.high[0])"
   ]
  },
  {
   "cell_type": "code",
   "execution_count": 9,
   "metadata": {},
   "outputs": [],
   "source": [
    "class Agent():\n",
    "    def __init__(self):\n",
    "        self.actor_primary = Actor(obs_dim, act_dim, max_action, 256).to(device)\n",
    "        self.actor_secondary = Actor(obs_dim, act_dim, max_action, 256).to(device)\n",
    "\n",
    "        self.actor_target_primary = Actor(obs_dim, act_dim, max_action, 256).to(device)\n",
    "        self.actor_target_secondary = Actor(obs_dim, act_dim, max_action, 256).to(device)\n",
    "        self.actor_target_primary.load_state_dict(self.actor_primary.state_dict())\n",
    "        self.actor_target_secondary.load_state_dict(self.actor_secondary.state_dict())\n",
    "\n",
    "        self.optimizer_actor_primary = torch.optim.Adam(self.actor_primary.parameters(), lr=lr)\n",
    "        self.optimizer_actor_secondary = torch.optim.Adam(self.actor_secondary.parameters(), lr=lr)\n",
    "\n",
    "        self.critic_evaluator = Critic(obs_dim, act_dim, 256).to(device)\n",
    "\n",
    "        self.critic_target = Critic(obs_dim, act_dim, 256).to(device)\n",
    "        self.critic_target.load_state_dict(self.critic_evaluator.state_dict())\n",
    "\n",
    "        self.optimizer_critic = torch.optim.Adam(self.critic_evaluator.parameters(), lr=lr)\n",
    "\n",
    "        self.max_action = max_action\n",
    "\n",
    "    def select_action(self, state):\n",
    "        state = torch.FloatTensor(state.reshape(1, -1)).to(device)\n",
    "        action_primary = self.actor_primary(state).cpu().data.numpy().flatten()\n",
    "        action_secondary = self.actor_secondary(state).cpu().data.numpy().flatten()\n",
    "        action_primary = (action_primary + np.random.normal(0, 0.1, size=act_dim)).clip(-max_action, max_action)\n",
    "        action_secondary = (action_secondary + np.random.normal(0, 0.1, size=act_dim)).clip(-max_action, max_action)\n",
    "\n",
    "        q_primary, q_secondary = self.critic_evaluator(state, torch.FloatTensor(action_primary.reshape(1, -1)).to(device))\n",
    "        q1 = torch.max(q_primary, q_secondary).mean()\n",
    "\n",
    "        q_primary, q_secondary = self.critic_evaluator(state, torch.FloatTensor(action_secondary.reshape(1, -1)).to(device))\n",
    "        q2 = torch.max(q_primary, q_secondary).mean()\n",
    "\n",
    "        if q1 > q2:\n",
    "            return action_primary\n",
    "        else:\n",
    "            return action_secondary\n",
    "\n",
    "    def train(self, replay_buffer, iterations):\n",
    "        for it in range(iterations):\n",
    "            state, action, reward, next_state, done = replay_buffer.sample(batch_size)\n",
    "            state = torch.FloatTensor(state).to(device)\n",
    "            action = torch.FloatTensor(action).to(device)\n",
    "            reward = torch.FloatTensor(reward).to(device)\n",
    "            next_state = torch.FloatTensor(next_state).to(device)\n",
    "            done = torch.FloatTensor(done).to(device)\n",
    "\n",
    "            with torch.no_grad():\n",
    "                noise = torch.randn_like(action).normal_(0, policy_noise).to(device).clamp(-noise_clip, noise_clip)\n",
    "                next_action_primary = (self.actor_target_primary(next_state) + noise).clamp(-self.max_action, self.max_action)\n",
    "                next_action_secondary = (self.actor_target_secondary(next_state) + noise).clamp(-self.max_action, self.max_action)\n",
    "\n",
    "            next_q_primary, next_q_secondary = self.critic_evaluator(next_state, next_action_primary)\n",
    "            next_q1 = torch.max(next_q_primary, next_q_secondary).mean()\n",
    "\n",
    "            next_q_primary, next_q_secondary = self.critic_evaluator(next_state, next_action_secondary)\n",
    "            next_q2 = torch.max(next_q_primary, next_q_secondary).mean()\n",
    "\n",
    "            next_action = next_action_primary if next_q1 > next_q2 else next_action_secondary\n",
    "\n",
    "            target_q_primary, target_q_secondary = self.critic_target(next_state, next_action)\n",
    "            target_q = torch.min(target_q_primary, target_q_secondary)\n",
    "            target_q = reward + ((1.0 - done) * gamma * target_q).detach()\n",
    "\n",
    "            current_q_primary, current_q_secondary = self.critic_evaluator(state, action)\n",
    "            critic_loss = F.mse_loss(current_q_primary, target_q) + F.mse_loss(current_q_secondary, target_q)\n",
    "\n",
    "            self.optimizer_critic.zero_grad()\n",
    "            critic_loss.backward()\n",
    "            self.optimizer_critic.step()\n",
    "\n",
    "            if it % policy_freq == 0:\n",
    "                actor_loss_primary = -self.critic_evaluator.Q1(state, self.actor_primary(state)).mean()\n",
    "                actor_loss_secondary = -self.critic_evaluator.Q1(state, self.actor_secondary(state)).mean()\n",
    "\n",
    "                self.optimizer_actor_primary.zero_grad()\n",
    "                actor_loss_primary.backward()\n",
    "                self.optimizer_actor_primary.step()\n",
    "\n",
    "                self.optimizer_actor_secondary.zero_grad()\n",
    "                actor_loss_secondary.backward()\n",
    "                self.optimizer_actor_secondary.step()\n",
    "\n",
    "                # Soft update the target networks\n",
    "                for param, target_param in zip(self.actor_primary.parameters(), self.actor_target_primary.parameters()):\n",
    "                    target_param.data.copy_(tau * param.data + (1 - tau) * target_param.data)\n",
    "\n",
    "                for param, target_param in zip(self.actor_secondary.parameters(), self.actor_target_secondary.parameters()):\n",
    "                    target_param.data.copy_(tau * param.data + (1 - tau) * target_param.data)\n",
    "\n",
    "                for param, target_param in zip(self.critic_evaluator.parameters(), self.critic_target.parameters()):\n",
    "                    target_param.data.copy_(tau * param.data + (1 - tau) * target_param.data)\n"
   ]
  },
  {
   "cell_type": "markdown",
   "metadata": {
    "id": "QEv4ZjXmyrHo"
   },
   "source": [
    "**Prepare the environment and wrap it to capture videos**"
   ]
  },
  {
   "cell_type": "code",
   "execution_count": 10,
   "metadata": {
    "id": "1Xrcek4hxDXl"
   },
   "outputs": [
    {
     "name": "stdout",
     "output_type": "stream",
     "text": [
      "The environment has 24 observations and the agent can take 4 actions\n",
      "The device is: cpu\n"
     ]
    }
   ],
   "source": [
    "print('The environment has {} observations and the agent can take {} actions'.format(obs_dim, act_dim))\n",
    "print('The device is: {}'.format(device))\n",
    "\n",
    "if device.type != 'cpu': print('It\\'s recommended to train on the cpu for this')"
   ]
  },
  {
   "cell_type": "code",
   "execution_count": 11,
   "metadata": {
    "colab": {
     "base_uri": "https://localhost:8080/"
    },
    "id": "FUw4h980jfnu",
    "outputId": "304f3637-229f-4a2c-8c03-4ca376badc00"
   },
   "outputs": [
    {
     "data": {
      "image/png": "[encoded data removed]",
      "text/plain": [
       "<Figure size 640x480 with 1 Axes>"
      ]
     },
     "metadata": {},
     "output_type": "display_data"
    }
   ],
   "source": [
    "# in the submission please use seed 42 for verification\n",
    "seed = 42\n",
    "torch.manual_seed(seed)\n",
    "env.seed(seed)\n",
    "random.seed(seed)\n",
    "np.random.seed(seed)\n",
    "env.action_space.seed(seed)\n",
    "\n",
    "\n",
    "# logging variables\n",
    "ep_reward = 0\n",
    "reward_list = []\n",
    "plot_data = []\n",
    "log_f = open(\"agent-log.txt\",\"w+\")\n",
    "\n",
    "\n",
    "# initialise agent\n",
    "replay_buffer = ReplayBuffer(max_size=capacity)\n",
    "agent = Agent()\n",
    "max_episodes = 400\n",
    "max_timesteps = 2000\n",
    "\n",
    "\n",
    "\n",
    "\n",
    "# training procedure:\n",
    "# training procedure:\n",
    "for episode in range(1, max_episodes + 1):\n",
    "   state = env.reset()\n",
    "   ep_reward = 0\n",
    "   early_exit = False\n",
    "   for timestep in range(max_timesteps):\n",
    "       if episode < 20:\n",
    "           action = env.action_space.sample()  # Explore using random actions\n",
    "       else:\n",
    "           action = agent.select_action(state)  # Agent selects action\n",
    "           action += np.random.normal(0, 0.1, size=action.shape)  # Add exploration noise\n",
    "\n",
    "\n",
    "       next_state, reward, done, _ = env.step(action)\n",
    "       ep_reward += reward\n",
    "       # Adjust reward based on specific game conditions\n",
    "       if reward == -100:\n",
    "           reward = -5  # Decrease fall down reward\n",
    "       else:\n",
    "           reward *= 5  # Scale other rewards\n",
    "\n",
    "\n",
    "       # Store transition in the replay buffer\n",
    "       replay_buffer.add(state, action, reward, next_state, done)\n",
    "       state = next_state  # Update state to the next state\n",
    "\n",
    "\n",
    "       # If learning has started, train the agent at each step after initial exploration\n",
    "       if episode >= 20:\n",
    "           agent.train(replay_buffer, 1)\n",
    "\n",
    "\n",
    "       # Check if the episode is finished\n",
    "       if done or timestep == max_timesteps - 1:\n",
    "           if episode >= 20:\n",
    "               agent.train(replay_buffer, timestep)\n",
    "               \n",
    "           # Adjust learning rates dynamically if performance is high\n",
    "           if len(reward_list) > 50 and np.mean(reward_list[-50:]) > 250:\n",
    "               new_lr = 5e-4 - (5e-4 - 5e-5) * episode / max_episodes\n",
    "               for optimizer in [agent.optimizer_critic, agent.optimizer_actor_primary, agent.optimizer_actor_secondary]:\n",
    "                   for param_group in optimizer.param_groups:\n",
    "                       param_group['lr'] = new_lr\n",
    "               early_exit = True  # Flag to exit after updating parameters\n",
    "\n",
    "\n",
    "           if early_exit:\n",
    "               break  # Stop the current episode if conditions met\n",
    "           # Ensure no further steps are taken after the episode ends\n",
    "           break\n",
    "   reward_list.append(ep_reward)  # Log the accumulated reward for the episode\n",
    "   \n",
    "   # do NOT change this logging code - it is used for automated marking!\n",
    "   log_f.write('episode: {}, reward: {}\\n'.format(episode, ep_reward))\n",
    "   log_f.flush()\n",
    "   ep_reward = 0\n",
    "\n",
    "\n",
    "   # print reward data every so often - add a graph like this in your report\n",
    "   if episode % plot_interval == 0:\n",
    "       plot_data.append([episode, np.array(reward_list).mean(), np.array(reward_list).std()])\n",
    "       reward_list = []\n",
    "       #plt.rcParams['figure.dpi'] = 100\n",
    "       plt.plot([x[0] for x in plot_data], [x[1] for x in plot_data], '-', color='tab:grey')\n",
    "       plt.fill_between([x[0] for x in plot_data], [x[1]-x[2] for x in plot_data], [x[1]+x[2] for x in plot_data], alpha=0.2, color='tab:grey')\n",
    "       plt.xlabel('Episode number')\n",
    "       plt.ylabel('Episode reward')\n",
    "       plt.show()\n",
    "       disp.clear_output(wait=True)"
   ]
  },
  {
   "cell_type": "code",
   "execution_count": null,
   "metadata": {
    "colab": {
     "base_uri": "https://localhost:8080/",
     "height": 350
    },
    "id": "rDl6ViIDlVOk",
    "outputId": "fbd84dae-5028-49cd-83dd-af1f3e4ca858"
   },
   "outputs": [],
   "source": []
  },
  {
   "cell_type": "code",
   "execution_count": null,
   "metadata": {
    "id": "Cnj2naH9JM9-"
   },
   "outputs": [],
   "source": []
  }
 ],
 "metadata": {
  "colab": {
   "name": "RL-Assignment",
   "provenance": []
  },
  "kernelspec": {
   "display_name": "projectdeeplearning",
   "language": "python",
   "name": "projectdeeplearning"
  },
  "language_info": {
   "codemirror_mode": {
    "name": "ipython",
    "version": 3
   },
   "file_extension": ".py",
   "mimetype": "text/x-python",
   "name": "python",
   "nbconvert_exporter": "python",
   "pygments_lexer": "ipython3",
   "version": "3.8.11"
  }
 },
 "nbformat": 4,
 "nbformat_minor": 1
}
